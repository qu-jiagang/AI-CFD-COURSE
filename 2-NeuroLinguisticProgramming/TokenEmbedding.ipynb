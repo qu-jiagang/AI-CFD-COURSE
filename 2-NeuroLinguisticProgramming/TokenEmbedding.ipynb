{
 "cells": [
  {
   "cell_type": "markdown",
   "metadata": {},
   "source": [
    "# 介绍\n",
    "\n",
    "Embedding（嵌入向量）用于将离散的输入（如词语、句子、文本片段等）转换为连续的、低维的向量表示。这些向量捕捉了输入的语义信息，使得模型能更高效地处理和理解语言。\n",
    "\n",
    "Embedding 是一种将符号（如单词、字符）映射到实数向量空间的方法。\n",
    "它的目标是捕捉符号之间的语义关系和上下文依赖性。具体而言：\n",
    "\n",
    "离散空间 → 连续空间：将离散的文本数据（如单词、子词、句子）表示为可以在向量空间中操作的实数向量。\n",
    "维度压缩：嵌入向量的维度通常远小于词汇表的大小，使得计算更高效。\n",
    "例如，一个单词可能被映射为一个 300 维的向量：\n",
    "\"dog\" → [0.1, -0.3, 0.7, ... 300维]"
   ]
  },
  {
   "cell_type": "code",
   "execution_count": null,
   "metadata": {},
   "outputs": [
    {
     "name": "stdout",
     "output_type": "stream",
     "text": [
      "嵌入矩阵：\n",
      " Parameter containing:\n",
      "tensor([[-0.9963,  0.8770,  0.3977,  0.2107],\n",
      "        [ 0.7516,  1.0113, -0.7852,  1.2557],\n",
      "        [-1.6415,  1.4287,  0.2131,  0.2545],\n",
      "        [-0.5219, -0.9777, -0.9520, -1.5952],\n",
      "        [-0.5013, -0.4815, -0.0613, -0.7888],\n",
      "        [-1.1343,  0.3590, -0.0756,  0.1789],\n",
      "        [ 1.5903,  0.1518,  1.0854,  1.1494],\n",
      "        [ 0.1324,  0.2743,  0.9980, -0.2178],\n",
      "        [ 0.1095,  1.2434, -0.6331, -0.2771],\n",
      "        [ 0.4720, -0.5957, -1.1709, -1.1228]], requires_grad=True)\n",
      "输入索引对应的嵌入向量：\n",
      " tensor([[ 0.7516,  1.0113, -0.7852,  1.2557],\n",
      "        [-0.5219, -0.9777, -0.9520, -1.5952],\n",
      "        [-1.1343,  0.3590, -0.0756,  0.1789],\n",
      "        [ 0.1324,  0.2743,  0.9980, -0.2178]], grad_fn=<EmbeddingBackward0>)\n"
     ]
    }
   ],
   "source": [
    "import torch\n",
    "import torch.nn as nn\n",
    "\n",
    "# 定义一个 nn.Embedding\n",
    "vocab_size = 10  # 词汇表大小（支持的输入索引范围是 0 到 9）\n",
    "embedding_dim = 4  # 嵌入向量的维度\n",
    "embedding = nn.Embedding(vocab_size, embedding_dim)\n",
    "\n",
    "# 输入一个索引序列\n",
    "input_indices = torch.tensor([1, 3, 5, 7])  # 一个小批量的索引序列\n",
    "output_vectors = embedding(input_indices)\n",
    "\n",
    "print(\"嵌入矩阵：\\n\", embedding.weight)\n",
    "print(\"输入索引对应的嵌入向量：\\n\", output_vectors)\n"
   ]
  }
 ],
 "metadata": {
  "language_info": {
   "name": "python"
  }
 },
 "nbformat": 4,
 "nbformat_minor": 2
}
